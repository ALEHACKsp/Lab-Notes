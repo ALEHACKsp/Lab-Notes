{
 "cells": [
  {
   "cell_type": "markdown",
   "id": "886e2660-2fce-4208-855d-1dba4599ef2d",
   "metadata": {},
   "source": [
    "# Emotet Static Config Extractor\n",
    "\n",
    "Sample: `c7574aac7583a5bdc446f813b8e347a768a9f4af858404371eae82ad2d136a01`\n",
    "\n",
    "Unpacked: `eeb13cd51faa7c23d9a40241d03beb239626fbf3efe1dbbfa3994fc10dea0827`\n",
    "\n",
    "References:\n",
    "- [Malshare Sample (Unpacked)](https://malshare.com/sample.php?action=detail&hash=eeb13cd51faa7c23d9a40241d03beb239626fbf3efe1dbbfa3994fc10dea0827)"
   ]
  },
  {
   "cell_type": "markdown",
   "id": "356deee6-08d9-4502-b0f9-8ba883be899c",
   "metadata": {},
   "source": [
    "## Helper Functions"
   ]
  },
  {
   "cell_type": "code",
   "execution_count": 1,
   "id": "891a942d-b8e1-4318-ac45-d1e647499de7",
   "metadata": {},
   "outputs": [],
   "source": [
    "def unhex(hex_string):\n",
    "    import binascii\n",
    "    if type(hex_string) == str:\n",
    "        return binascii.unhexlify(hex_string.encode('utf-8'))\n",
    "    else:\n",
    "        return binascii.unhexlify(hex_string)\n",
    "\n",
    "def tohex(data):\n",
    "    import binascii\n",
    "    if type(data) == str:\n",
    "        return binascii.hexlify(data.encode('utf-8'))\n",
    "    else:\n",
    "        return binascii.hexlify(data)"
   ]
  },
  {
   "cell_type": "markdown",
   "id": "96af5383-301b-446f-bd77-99b31211b528",
   "metadata": {},
   "source": [
    "## Load The Sample"
   ]
  },
  {
   "cell_type": "code",
   "execution_count": 3,
   "id": "4411fb96-749a-405e-b17f-0f7cf4077c4c",
   "metadata": {},
   "outputs": [],
   "source": [
    "import struct\n",
    "import pefile\n",
    "\n",
    "EMOTET_FILE = r'/tmp/emotet.bin'\n",
    "data = open(EMOTET_FILE, 'rb').read()\n",
    "pe = pefile.PE(data = data)\n"
   ]
  },
  {
   "cell_type": "code",
   "execution_count": 7,
   "id": "c3bc4b88-43f7-45c1-9715-3429dee6e2e5",
   "metadata": {},
   "outputs": [
    {
     "name": "stdout",
     "output_type": "stream",
     "text": [
      "b'Zy\\xf8\\x19\\x12y\\xf8\\x19\\x1f:\\xab(zy\\xf8\\x19\\x1a&\\x8c\\xaf\\x9e\\xa1$\\x15gf\\xfecm\\xa5A\\xe0\\xed\\xc4\\xa6\\x93u\\xdfY\\xebU\\xd8\\x81\\x14N\\x9c\\r(\\xb2\\xc9\\xf2\\x07f\\xf2\\xc7b\\xcad\\xde?k\\xff\\x9de@\\xd4!\\xda\\x06\\xd5\\xb0\\xe9:\\xfe\\xe0\\xc0.E\\xa0\\xe0\\xe7fO@\\xde\\xfd\\xee\\xbd\\x01\\xd9\\x15<\\x00\\x00\\x00\\x00\\xc6R\\xb2\\x18'\n"
     ]
    }
   ],
   "source": [
    "txt_data = None\n",
    "for s in pe.sections:\n",
    "    if b'.text' in s.Name:\n",
    "        txt_data = s.get_data()\n",
    "print(txt_data[:100])"
   ]
  },
  {
   "cell_type": "markdown",
   "id": "e70b0ed5-a271-4080-b574-ca2d5e0379b5",
   "metadata": {},
   "source": [
    "## Decrypt Strings Table"
   ]
  },
  {
   "cell_type": "code",
   "execution_count": 12,
   "id": "d1d849cf-ead4-450d-97c4-40d1b83c6a1c",
   "metadata": {},
   "outputs": [
    {
     "name": "stdout",
     "output_type": "stream",
     "text": [
      "b'ECS1 \\x00\\x00\\x00@_t\\xb6\\xc4\\xd8\\xdc\\x0c=\\x1f\\x06z7\\xdc\\xb9\\xf9\\xb7\\xbd^\\x8a/\\xa6\\xa1\\xf2\\x0f\\xa1y\\r\\x14\\xe5\\xf51\\xe8\\xb0\\n\\x1e<\\x8b?{\\x90\\x1d&&1\\x86e|\\x1a\\xad\\xd9\\xc3\\\\\\xacH\\xf0`\\x87\\x18\\xd9t<X\\xf9'\n",
      "b'ECK1 \\x00\\x00\\x00\\xf3\\xa35\\xb5\\x0e.+\\xf45V\\xcd\\nL)>|\\xf1\\x10\\xdd\\xcb\\xb0O \\xb3\\xfa\\x02 \\xceL\\xb6\\x0c\\x1eD\\x96\\xbe\\xb4\\x0e\\xe6\\xc9[\\x9a\\xbdN\\xbd\\x9d\\x8f\\xcf\\xe0\\x10[4L\\x82\\x04&\\x02\\xd3\\xba\\xac\\xf1\\xfb\\x9f,v'\n",
      "%s\\%s\n",
      "%s\\%s.exe\n",
      "%s\\*\n",
      "%s:Zone.Identifier\n",
      "POST\n",
      "WinSta0\\Default\n",
      "%u.%u.%u.%u\n",
      "\n",
      "--%S--\n",
      "Cookie: %s=%s\n",
      "\n",
      "Content-Type: multipart/form-data; boundary=%s\n",
      "\n",
      "\n",
      "--%S\n",
      "Content-Disposition: form-data; name=\"%S\"; filename=\"%S\"\n",
      "Content-Type: application/octet-stream\n",
      "\n",
      "\n",
      "shell32.dll\n",
      "wtsapi32.dll\n",
      "wininet.dll\n",
      "crypt32.dll\n",
      "advapi32.dll\n",
      "urlmon.dll\n",
      "shlwapi.dll\n",
      "userenv.dll\n",
      "bcrypt.dll\n",
      "%s\\%s\n",
      "%s\\rundll32.exe \"%s\\%s\",%s\n",
      "Control_RunDLL\n",
      "SOFTWARE\\Microsoft\\Windows\\CurrentVersion\\Run\n",
      "%s\\%s%x\n",
      "%s\\rundll32.exe \"%s\\%s\",%s %s\n",
      "%s\\rundll32.exe \"%s\",Control_RunDLL\n",
      "%s%s.dll\n",
      "%s%s.exe\n",
      "%s\\regsvr32.exe -s \"%s\"\n",
      "DllRegisterServer\n",
      "%s\\rundll32.exe \"%s\",Control_RunDLL\n",
      "%s\\rundll32.exe \"%s\",Control_RunDLL %s\n",
      "%s_%08X\n",
      "Microsoft Primitive Provider\n",
      "ECCPUBLICBLOB\n",
      "SHA256\n",
      "ObjectLength\n",
      "ECDSA_P256\n",
      "ECDH_P256\n",
      "HASH\n",
      "AES\n",
      "KeyDataBlob\n",
      "RNG\n"
     ]
    }
   ],
   "source": [
    "def xor_decrypt(data, key):\n",
    "    out = []\n",
    "    for i in range(len(data)):\n",
    "        out.append(data[i] ^ key[i%len(key)])\n",
    "    return bytes(out)\n",
    "\n",
    "\n",
    "def is_ascii(s):\n",
    "    return all(c < 128 for c in s)\n",
    "\n",
    "strings_table = []\n",
    "ECS1_string = None\n",
    "ECK1_string = None\n",
    "for i in range(0,0x1000,4):\n",
    "    candidate_1 = struct.unpack('<I',txt_data[i:i+4])[0] \n",
    "    candidate_2 = struct.unpack('<I',txt_data[i+4:i+8])[0] \n",
    "    if (candidate_1  & 0xffffff00) ^ (candidate_2 & 0xffffff00) == 0:\n",
    "        # We have a match!\n",
    "        key = txt_data[i:i+4]\n",
    "        data_len = candidate_1 ^ candidate_2\n",
    "        enc_data = txt_data[i+8:i+8+data_len]\n",
    "        ptxt_data = xor_decrypt(enc_data, key)\n",
    "        if is_ascii(ptxt_data):\n",
    "            if ptxt_data != b'':\n",
    "                strings_table.append(ptxt_data.decode('latin1'))\n",
    "        if b'ECS1' == ptxt_data[:4]:\n",
    "            ECS1_string = ptxt_data\n",
    "        if b'ECK1' == ptxt_data[:4]:\n",
    "            ECK1_string = ptxt_data\n",
    "\n",
    "# Print our strings\n",
    "print(ECS1_string)\n",
    "print(ECK1_string)\n",
    "for s in strings_table:\n",
    "    print(s)\n"
   ]
  },
  {
   "cell_type": "markdown",
   "id": "7517cb5e-bf76-462f-8b7b-1bc5cf3feb5f",
   "metadata": {},
   "source": [
    "## Elliptic Curve Keys \n",
    "\n",
    "References:\n",
    "- https://docs.microsoft.com/en-us/windows/win32/api/bcrypt/nf-bcrypt-bcryptimportkeypair\n",
    "- https://docs.microsoft.com/en-us/windows/win32/api/bcrypt/ns-bcrypt-bcrypt_ecckey_blob\n",
    "- https://github.com/tpn/winsdk-10/blob/master/Include/10.0.14393.0/shared/bcrypt.h\n",
    "- https://pycryptodome.readthedocs.io/en/latest/src/public_key/ecc.html"
   ]
  },
  {
   "cell_type": "code",
   "execution_count": 25,
   "id": "c0582d44-b9cd-4749-ad7c-77bb7d5153d3",
   "metadata": {},
   "outputs": [
    {
     "name": "stdout",
     "output_type": "stream",
     "text": [
      "b'ECS1 \\x00\\x00\\x00@_t\\xb6\\xc4\\xd8\\xdc\\x0c=\\x1f\\x06z7\\xdc\\xb9\\xf9\\xb7\\xbd^\\x8a/\\xa6\\xa1\\xf2\\x0f\\xa1y\\r\\x14\\xe5\\xf51\\xe8\\xb0\\n\\x1e<\\x8b?{\\x90\\x1d&&1\\x86e|\\x1a\\xad\\xd9\\xc3\\\\\\xacH\\xf0`\\x87\\x18\\xd9t<X\\xf9'\n",
      "b'ECK1 \\x00\\x00\\x00\\xf3\\xa35\\xb5\\x0e.+\\xf45V\\xcd\\nL)>|\\xf1\\x10\\xdd\\xcb\\xb0O \\xb3\\xfa\\x02 \\xceL\\xb6\\x0c\\x1eD\\x96\\xbe\\xb4\\x0e\\xe6\\xc9[\\x9a\\xbdN\\xbd\\x9d\\x8f\\xcf\\xe0\\x10[4L\\x82\\x04&\\x02\\xd3\\xba\\xac\\xf1\\xfb\\x9f,v'\n",
      "\n",
      "ECS1 Key\n",
      "-----BEGIN PUBLIC KEY-----\n",
      "MFkwEwYHKoZIzj0CAQYIKoZIzj0DAQcDQgAEQF90tsTY3Aw9HwZ6N9y5+be9Xoov\n",
      "pqHyD6F5DRTl9THosAoePIs/e5AdJiYxhmV8Gq3Zw1ysSPBghxjZdDxY+Q==\n",
      "-----END PUBLIC KEY-----\n",
      "\n",
      "ECK1 Key\n",
      "-----BEGIN PUBLIC KEY-----\n",
      "MFkwEwYHKoZIzj0CAQYIKoZIzj0DAQcDQgAE86M1tQ4uK/Q1Vs0KTCk+fPEQ3cuw\n",
      "TyCz+gIgzky2DB5Elr60DubJW5q9Tr2dj8/gEFs0TIIEJgLTuqzx+58sdg==\n",
      "-----END PUBLIC KEY-----\n"
     ]
    }
   ],
   "source": [
    "print(ECS1_string)\n",
    "print(ECK1_string)\n",
    "\n",
    "# Extract ECS1 key\n",
    "ECS1_key_len = struct.unpack('<I',ECS1_string[4:8])[0]\n",
    "ECS1_x = int.from_bytes(ECS1_string[8:8+ECS1_key_len], \"big\")\n",
    "ECS1_y = int.from_bytes(ECS1_string[8+ECS1_key_len:], \"big\")\n",
    "\n",
    "from Crypto.PublicKey import ECC\n",
    "ECS1_key = ECC.construct(curve=\"p256\", point_x=ECS1_x, point_y=ECS1_y)\n",
    "print(\"\\nECS1 Key\")\n",
    "print(ECS1_key.export_key(format=\"PEM\"))\n",
    "\n",
    "# Extract ECK1 key\n",
    "ECK1_key_len = struct.unpack('<I',ECK1_string[4:8])[0]\n",
    "ECK1_x = int.from_bytes(ECK1_string[8:8+ECK1_key_len], \"big\")\n",
    "ECK1_y = int.from_bytes(ECK1_string[8+ECK1_key_len:], \"big\")\n",
    "\n",
    "from Crypto.PublicKey import ECC\n",
    "ECK1_key = ECC.construct(curve=\"p256\", point_x=ECK1_x, point_y=ECK1_y)\n",
    "print(\"\\nECK1 Key\")\n",
    "print(ECK1_key.export_key(format=\"PEM\"))"
   ]
  },
  {
   "cell_type": "markdown",
   "id": "37aa8373-d68a-43ba-bb99-f6d454ae3de7",
   "metadata": {},
   "source": [
    "## C2 Ground Truth\n",
    "\n",
    "`81.0.236.93:443`"
   ]
  },
  {
   "cell_type": "code",
   "execution_count": 35,
   "id": "727fd97d-f659-41bd-94c6-082eeefc983b",
   "metadata": {},
   "outputs": [
    {
     "name": "stdout",
     "output_type": "stream",
     "text": [
      "b'\\xc7\\x08\\x945g\\x08\\x945\\x96\\x08xh\\xc6\\xb3\\x944\\x99\\xb9lu\\xc6\\xb3\\x944\\x85\"\\xa30\\xdc\\xa0\\x944\\xa0\\x00\\x8eR\\xd8\\x98\\x944~\\xb0\\x8d\\xd8\\xd8\\x98\\x944\\xeaD$?\\xd8\\x98\\x944{U\\xe9A\\xd8\\x98\\x944\\xa0\\x00\\x8eS\\xd8\\x98\\x944uG\\x07w\\xd8\\x98\\x944\\xfd\\xeb\\xbe\\xd9\\xc7X\\x944\\xea~\\x13\\xfe\\xdc\\xa0\\x944\\xa0C]7'\n",
      "b'5100ec5d01bb00015eb1f84001bb0001422a37051ba8000167081a671f900001b9b819ed1f9000012d4cb00a1f900001bc5d7d741f90000167081a661f900001b24f93421f9000013ae32aec005000012d7687cb1ba80001674bc90201bb0001c39a851401bb00012d8e72e71f900001d4ed05d101bb0001cf2654c31f90000168fbd62e1f9000018ab9481a1f9000013344af081f900001d239d9841f900001'\n",
      "\n",
      "== C2 List== \n",
      "81.0.236.93:443\n",
      "94.177.248.64:443\n",
      "66.42.55.5:7080\n",
      "103.8.26.103:8080\n",
      "185.184.25.237:8080\n",
      "45.76.176.10:8080\n",
      "188.93.125.116:8080\n",
      "103.8.26.102:8080\n",
      "178.79.147.66:8080\n",
      "58.227.42.236:80\n",
      "45.118.135.203:7080\n",
      "103.75.201.2:443\n",
      "195.154.133.20:443\n",
      "45.142.114.231:8080\n",
      "212.237.5.209:443\n",
      "207.38.84.195:8080\n",
      "104.251.214.46:8080\n",
      "138.185.72.26:8080\n",
      "51.68.175.8:8080\n",
      "210.57.217.132:8080\n"
     ]
    }
   ],
   "source": [
    "data_data = None\n",
    "for s in pe.sections:\n",
    "    if b'.data' in s.Name:\n",
    "        data_data = s.get_data()\n",
    "print(data_data[:100])\n",
    "\n",
    "key = data_data[:4]\n",
    "data_len = struct.unpack('<I',data_data[:4])[0] ^ struct.unpack('<I',data_data[4:8])[0]\n",
    "enc_data = data_data[8:8+data_len]\n",
    "ptxt_data = xor_decrypt(enc_data, key)\n",
    "\n",
    "print(tohex(ptxt_data))\n",
    "\n",
    "print(\"\\n== C2 List== \")\n",
    "for i in range(0,len(ptxt_data),8):\n",
    "    print(\"%d.%d.%d.%d:%d\" % (ptxt_data[i+0],ptxt_data[i+1],ptxt_data[i+2],ptxt_data[i+3],struct.unpack('>H',ptxt_data[i+4:i+6])[0]))\n",
    "\n"
   ]
  },
  {
   "cell_type": "code",
   "execution_count": null,
   "id": "a5418978-a96d-4c0d-9c08-1ffc63b98605",
   "metadata": {},
   "outputs": [],
   "source": []
  }
 ],
 "metadata": {
  "kernelspec": {
   "display_name": "Python 3",
   "language": "python",
   "name": "python3"
  },
  "language_info": {
   "codemirror_mode": {
    "name": "ipython",
    "version": 3
   },
   "file_extension": ".py",
   "mimetype": "text/x-python",
   "name": "python",
   "nbconvert_exporter": "python",
   "pygments_lexer": "ipython3",
   "version": "3.9.5"
  }
 },
 "nbformat": 4,
 "nbformat_minor": 5
}

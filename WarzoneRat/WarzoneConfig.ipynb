{
 "cells": [
  {
   "cell_type": "markdown",
   "id": "7393edcb-38c6-4f02-a72d-98ce109502e5",
   "metadata": {},
   "source": [
    "# WarZone Config Extractor\n",
    "\n",
    "The config is stored in the `.bss` PE section with the following format.\n",
    "\n",
    "Key length | key | data\n",
    "\n"
   ]
  },
  {
   "cell_type": "code",
   "execution_count": 1,
   "id": "be322404-96a4-46ab-b93f-1a3ab3722fa5",
   "metadata": {},
   "outputs": [],
   "source": [
    "# First lets setup our imports\n",
    "import argparse\n",
    "import struct\n",
    "import pefile\n",
    "import re\n",
    "import binascii"
   ]
  },
  {
   "cell_type": "markdown",
   "id": "8800c159-3130-400b-bc1f-00d7f11fe968",
   "metadata": {},
   "source": [
    "Now a quick reminder ddof binary data hex encoding for Python3"
   ]
  },
  {
   "cell_type": "markdown",
   "id": "581df870-90dc-4c2b-af87-66ace7987b1e",
   "metadata": {},
   "source": [
    "## RC4 Encryption\n",
    "The data is encrypted using RC4. For more information on RC4 check out our RC4 tutorial video.\n",
    "\n",
    "<a href=\"https://www.youtube.com/watch?v=CiJocXXMXK4\" target=\"_blank\"><img src=\"http://img.youtube.com/vi/CiJocXXMXK4/0.jpg\" \n",
    "alt=\"IMAGE ALT TEXT HERE\" width=\"240\" height=\"180\" border=\"10\" /></a>"
   ]
  },
  {
   "cell_type": "code",
   "execution_count": 4,
   "id": "40e72184-8fb2-40e3-a84a-463379a48ade",
   "metadata": {
    "tags": []
   },
   "outputs": [],
   "source": [
    "# Now lets implement a simple RC4 decryption function\n",
    "def rc4crypt(data, key):\n",
    "    #If the input is a string convert to byte arrays\n",
    "    if type(data) == str:\n",
    "        data = data.encode('utf-8')\n",
    "    if type(key) == str:\n",
    "        key = key.encode('utf-8')\n",
    "    x = 0\n",
    "    box = list(range(256))\n",
    "    for i in range(256):\n",
    "        x = (x + box[i] + key[i % len(key)]) % 256\n",
    "        box[i], box[x] = box[x], box[i]\n",
    "    x = 0\n",
    "    y = 0\n",
    "    out = []\n",
    "    for c in data:\n",
    "        x = (x + 1) % 256\n",
    "        y = (y + box[x]) % 256\n",
    "        box[x], box[y] = box[y], box[x]\n",
    "        out.append(c ^ box[(box[x] + box[y]) % 256])\n",
    "    return bytes(out)"
   ]
  },
  {
   "cell_type": "code",
   "execution_count": 15,
   "id": "f0c2018f-45c2-4a57-8857-614bb601b71d",
   "metadata": {
    "tags": []
   },
   "outputs": [
    {
     "name": "stdout",
     "output_type": "stream",
     "text": [
      "b'\\x7f\\tG\\x99'\n",
      "b'test'\n"
     ]
    }
   ],
   "source": [
    "data = 'test'\n",
    "key = 'key'\n",
    "ctxt = rc4crypt(data, key)\n",
    "print(ctxt)\n",
    "ptxt = rc4crypt(ctxt, key)\n",
    "print(ptxt)"
   ]
  }
 ],
 "metadata": {
  "kernelspec": {
   "display_name": "Python 3",
   "language": "python",
   "name": "python3"
  },
  "language_info": {
   "codemirror_mode": {
    "name": "ipython",
    "version": 3
   },
   "file_extension": ".py",
   "mimetype": "text/x-python",
   "name": "python",
   "nbconvert_exporter": "python",
   "pygments_lexer": "ipython3",
   "version": "3.9.5"
  }
 },
 "nbformat": 4,
 "nbformat_minor": 5
}

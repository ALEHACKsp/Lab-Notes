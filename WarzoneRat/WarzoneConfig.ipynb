{
 "cells": [
  {
   "cell_type": "markdown",
   "id": "7393edcb-38c6-4f02-a72d-98ce109502e5",
   "metadata": {},
   "source": [
    "# WarZone Config Extractor\n",
    "\n",
    "The config is stored in the `.bss` PE section with the following format.\n",
    "\n",
    "Key length | key | data\n",
    "\n"
   ]
  },
  {
   "cell_type": "code",
   "execution_count": 1,
   "id": "be322404-96a4-46ab-b93f-1a3ab3722fa5",
   "metadata": {},
   "outputs": [],
   "source": [
    "# First lets setup our imports\n",
    "import argparse\n",
    "import struct\n",
    "import pefile\n",
    "import re"
   ]
  },
  {
   "cell_type": "markdown",
   "id": "581df870-90dc-4c2b-af87-66ace7987b1e",
   "metadata": {},
   "source": [
    "The data is encrypted using RC4. For more information on RC4 check out our RC4 tutorial video.\n",
    "\n",
    "<a href=\"https://www.youtube.com/watch?v=CiJocXXMXK4\" target=\"_blank\"><img src=\"http://img.youtube.com/vi/CiJocXXMXK4/0.jpg\" \n",
    "alt=\"IMAGE ALT TEXT HERE\" width=\"240\" height=\"180\" border=\"10\" /></a>"
   ]
  },
  {
   "cell_type": "code",
   "execution_count": 2,
   "id": "40e72184-8fb2-40e3-a84a-463379a48ade",
   "metadata": {},
   "outputs": [],
   "source": [
    "# Now lets implement a simple RC4 decryption function\n",
    "def rc4crypt(data, key):\n",
    "    x = 0\n",
    "    box = range(256)\n",
    "    for i in range(256):\n",
    "        x = (x + box[i] + ord(key[i % len(key)])) % 256\n",
    "        box[i], box[x] = box[x], box[i]\n",
    "    x = 0\n",
    "    y = 0\n",
    "    out = []\n",
    "    for char in data:\n",
    "        x = (x + 1) % 256\n",
    "        y = (y + box[x]) % 256\n",
    "        box[x], box[y] = box[y], box[x]\n",
    "        out.append(chr(ord(char) ^ box[(box[x] + box[y]) % 256]))\n",
    "    return ''.join(out)"
   ]
  },
  {
   "cell_type": "code",
   "execution_count": null,
   "id": "c08980fe-3399-47ea-9f67-61ea8cc2ca93",
   "metadata": {},
   "outputs": [],
   "source": []
  }
 ],
 "metadata": {
  "kernelspec": {
   "display_name": "Python 3",
   "language": "python",
   "name": "python3"
  },
  "language_info": {
   "codemirror_mode": {
    "name": "ipython",
    "version": 3
   },
   "file_extension": ".py",
   "mimetype": "text/x-python",
   "name": "python",
   "nbconvert_exporter": "python",
   "pygments_lexer": "ipython3",
   "version": "3.9.5"
  }
 },
 "nbformat": 4,
 "nbformat_minor": 5
}

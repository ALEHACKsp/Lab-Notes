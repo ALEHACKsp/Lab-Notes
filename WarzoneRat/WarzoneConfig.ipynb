{
 "cells": [
  {
   "cell_type": "markdown",
   "id": "7393edcb-38c6-4f02-a72d-98ce109502e5",
   "metadata": {},
   "source": [
    "# WarZone Config Extractor\n",
    "\n",
    "The config is stored in the `.bss` PE section with the following format.\n",
    "\n",
    "Key length | key | data\n",
    "\n"
   ]
  },
  {
   "cell_type": "code",
   "execution_count": 1,
   "id": "be322404-96a4-46ab-b93f-1a3ab3722fa5",
   "metadata": {},
   "outputs": [],
   "source": [
    "# First lets setup our imports\n",
    "import argparse\n",
    "import struct\n",
    "import pefile\n",
    "import re\n",
    "import binascii"
   ]
  },
  {
   "cell_type": "markdown",
   "id": "8800c159-3130-400b-bc1f-00d7f11fe968",
   "metadata": {},
   "source": [
    "Now a quick reminder of binary data hex encoding for Python3"
   ]
  },
  {
   "cell_type": "code",
   "execution_count": 3,
   "id": "c08980fe-3399-47ea-9f67-61ea8cc2ca93",
   "metadata": {},
   "outputs": [
    {
     "name": "stdout",
     "output_type": "stream",
     "text": [
      "b'test'\n",
      "test\n",
      "b'74657374'\n",
      "b'74657374'\n",
      "74657374\n",
      "b'test'\n",
      "b'test'\n",
      "test\n"
     ]
    }
   ],
   "source": [
    "string_example = \"test\"\n",
    "byte_array_example = b\"test\"\n",
    "\n",
    "# Convert string into bytes\n",
    "print(string_example.encode('utf-8'))\n",
    "\n",
    "# Convert byte array into string\n",
    "print(byte_array_example.decode('utf-8'))\n",
    "\n",
    "# Convert string into hex encoded byte array\n",
    "print(binascii.hexlify(string_example.encode('utf-8')))\n",
    "\n",
    "# Convert byte array into hex encoded byte array\n",
    "print(binascii.hexlify(byte_array_example))\n",
    "\n",
    "# Convert byte array into hex encoded string\n",
    "print(binascii.hexlify(byte_array_example).decode('utf-8'))\n",
    "\n",
    "# Convert hex encoded byte array into ascii byte array\n",
    "hex_byte_array = b'74657374'\n",
    "print(binascii.unhexlify(hex_string))\n",
    "\n",
    "# Convert hex encoded string into ascii byte array\n",
    "hex_string = '74657374'\n",
    "print(binascii.unhexlify(hex_string.encode('utf-8')))\n",
    "\n",
    "# Convert hex encoded string into ascii string\n",
    "hex_string = '74657374'\n",
    "print(binascii.unhexlify(hex_string.encode('utf-8')).decode('utf-8'))"
   ]
  },
  {
   "cell_type": "markdown",
   "id": "844e2f6f-f052-4b48-95b5-1ef4973698ea",
   "metadata": {
    "tags": []
   },
   "source": [
    "## Hex string helper functions"
   ]
  },
  {
   "cell_type": "code",
   "execution_count": 14,
   "id": "495cd95b-d19d-4332-a7ee-31253a280d6e",
   "metadata": {},
   "outputs": [],
   "source": [
    "def unhex(hex_string):\n",
    "    import binascii\n",
    "    if type(hex_string) == str:\n",
    "        return binascii.unhexlify(hex_string.encode('utf-8')).decode('utf-8')\n",
    "    else:\n",
    "        return binascii.unhexlify(hex_string).decode('utf-8')\n",
    "\n",
    "def tohex(data):\n",
    "    import binascii\n",
    "    if type(data) == str:\n",
    "        return binascii.hexlify(data.encode('utf-8')).decode('utf-8')\n",
    "    else:\n",
    "        return binascii.hexlify(data).decode('utf-8')\n",
    "    "
   ]
  },
  {
   "cell_type": "code",
   "execution_count": 16,
   "id": "11c84d6c-010f-4c0a-9b27-6900ae3c42ad",
   "metadata": {},
   "outputs": [],
   "source": [
    "\n",
    "def unicode_strings(buf, n=4):\n",
    "    import re\n",
    "    ASCII_BYTE = b' !\\\"#\\$%&\\'\\(\\)\\*\\+,-\\./0123456789:;<=>\\?@ABCDEFGHIJKLMNOPQRSTUVWXYZ\\[\\]\\^_`abcdefghijklmnopqrstuvwxyz\\{\\|\\}\\\\\\~\\t'\n",
    "    if type(data) == str:\n",
    "        buf = buf.encode('utf-8')\n",
    "    reg = b'((?:[%s]\\x00){%d,})' % (ASCII_BYTE, n)\n",
    "    uni_re = re.compile(reg)\n",
    "    out = []\n",
    "    for match in uni_re.finditer(buf):\n",
    "        try:\n",
    "            out.append(match.group().decode(\"utf-16\"))\n",
    "        except UnicodeDecodeError:\n",
    "            pass\n",
    "    return out\n",
    "\n",
    "\n",
    "def ascii_strings(buf, n=4):\n",
    "    import re\n",
    "    ASCII_BYTE = b' !\\\"#\\$%&\\'\\(\\)\\*\\+,-\\./0123456789:;<=>\\?@ABCDEFGHIJKLMNOPQRSTUVWXYZ\\[\\]\\^_`abcdefghijklmnopqrstuvwxyz\\{\\|\\}\\\\\\~\\t'\n",
    "    if type(data) == str:\n",
    "        buf = buf.encode('utf-8')\n",
    "    reg = b'([%s]{%d,})' % (ASCII_BYTE, n)\n",
    "    ascii_re = re.compile(reg)\n",
    "    out = []\n",
    "    for match in ascii_re.finditer(buf):\n",
    "        try:\n",
    "            out.append(match.group().decode(\"ascii\"))\n",
    "        except UnicodeDecodeError:\n",
    "            pass\n",
    "    return out"
   ]
  },
  {
   "cell_type": "markdown",
   "id": "581df870-90dc-4c2b-af87-66ace7987b1e",
   "metadata": {},
   "source": [
    "## RC4 Encryption\n",
    "The data is encrypted using RC4. For more information on RC4 check out our RC4 tutorial video.\n",
    "\n",
    "<a href=\"https://www.youtube.com/watch?v=CiJocXXMXK4\" target=\"_blank\"><img src=\"http://img.youtube.com/vi/CiJocXXMXK4/0.jpg\" \n",
    "alt=\"IMAGE ALT TEXT HERE\" width=\"240\" height=\"180\" border=\"10\" /></a>"
   ]
  },
  {
   "cell_type": "code",
   "execution_count": 4,
   "id": "40e72184-8fb2-40e3-a84a-463379a48ade",
   "metadata": {},
   "outputs": [],
   "source": [
    "# Now lets implement a simple RC4 decryption function\n",
    "def rc4crypt(data, key):\n",
    "    #If the input is a string convert to byte arrays\n",
    "    if type(data) == str:\n",
    "        data = data.encode('utf-8')\n",
    "    if type(key) == str:\n",
    "        key = key.encode('utf-8')\n",
    "    x = 0\n",
    "    box = list(range(256))\n",
    "    for i in range(256):\n",
    "        x = (x + box[i] + key[i % len(key)]) % 256\n",
    "        box[i], box[x] = box[x], box[i]\n",
    "    x = 0\n",
    "    y = 0\n",
    "    out = []\n",
    "    for c in data:\n",
    "        x = (x + 1) % 256\n",
    "        y = (y + box[x]) % 256\n",
    "        box[x], box[y] = box[y], box[x]\n",
    "        out.append(c ^ box[(box[x] + box[y]) % 256])\n",
    "    return bytes(out)"
   ]
  },
  {
   "cell_type": "code",
   "execution_count": 15,
   "id": "f0c2018f-45c2-4a57-8857-614bb601b71d",
   "metadata": {},
   "outputs": [
    {
     "name": "stdout",
     "output_type": "stream",
     "text": [
      "b'\\x7f\\tG\\x99'\n",
      "b'test'\n"
     ]
    }
   ],
   "source": [
    "data = 'test'\n",
    "key = 'key'\n",
    "ctxt = rc4crypt(data, key)\n",
    "print(ctxt)\n",
    "ptxt = rc4crypt(ctxt, key)\n",
    "print(ptxt)"
   ]
  }
 ],
 "metadata": {
  "kernelspec": {
   "display_name": "Python 3",
   "language": "python",
   "name": "python3"
  },
  "language_info": {
   "codemirror_mode": {
    "name": "ipython",
    "version": 3
   },
   "file_extension": ".py",
   "mimetype": "text/x-python",
   "name": "python",
   "nbconvert_exporter": "python",
   "pygments_lexer": "ipython3",
   "version": "3.9.5"
  }
 },
 "nbformat": 4,
 "nbformat_minor": 5
}
